{
 "cells": [
  {
   "cell_type": "code",
   "execution_count": 1,
   "metadata": {},
   "outputs": [],
   "source": [
    "import pandas as pd\n",
    "import numpy as np\n",
    "from geopy.geocoders import Nominatim # convert an address into latitude and longitude values\n",
    "from pandas.io.json import json_normalize # tranform JSON file into a pandas dataframe\n",
    "import json # library to handle JSON files\n",
    "import requests,json\n",
    "import folium\n",
    "import seaborn as sns\n",
    "import matplotlib.pyplot as plt\n",
    "from sklearn import preprocessing\n"
   ]
  },
  {
   "cell_type": "code",
   "execution_count": 19,
   "metadata": {},
   "outputs": [
    {
     "data": {
      "text/html": [
       "<div>\n",
       "<style scoped>\n",
       "    .dataframe tbody tr th:only-of-type {\n",
       "        vertical-align: middle;\n",
       "    }\n",
       "\n",
       "    .dataframe tbody tr th {\n",
       "        vertical-align: top;\n",
       "    }\n",
       "\n",
       "    .dataframe thead th {\n",
       "        text-align: right;\n",
       "    }\n",
       "</style>\n",
       "<table border=\"1\" class=\"dataframe\">\n",
       "  <thead>\n",
       "    <tr style=\"text-align: right;\">\n",
       "      <th></th>\n",
       "      <th>Unnamed: 0</th>\n",
       "      <th>Neighborhood</th>\n",
       "      <th>Neighborhood Latitude</th>\n",
       "      <th>Neighborhood Longitude</th>\n",
       "      <th>Venue</th>\n",
       "      <th>Venue Latitude</th>\n",
       "      <th>Venue Longitude</th>\n",
       "      <th>Venue Category</th>\n",
       "      <th>Verified</th>\n",
       "      <th>Likes</th>\n",
       "      <th>Rate</th>\n",
       "    </tr>\n",
       "  </thead>\n",
       "  <tbody>\n",
       "    <tr>\n",
       "      <th>0</th>\n",
       "      <td>0</td>\n",
       "      <td>malga</td>\n",
       "      <td>24.800735</td>\n",
       "      <td>46.600703</td>\n",
       "      <td>Tamimi Markets (أسواق التميمي)</td>\n",
       "      <td>24.801425</td>\n",
       "      <td>46.602780</td>\n",
       "      <td>Supermarket</td>\n",
       "      <td>False</td>\n",
       "      <td>1366</td>\n",
       "      <td>9.4</td>\n",
       "    </tr>\n",
       "    <tr>\n",
       "      <th>1</th>\n",
       "      <td>1</td>\n",
       "      <td>malga</td>\n",
       "      <td>24.800735</td>\n",
       "      <td>46.600703</td>\n",
       "      <td>Starbucks (ستاربكس)</td>\n",
       "      <td>24.801419</td>\n",
       "      <td>46.602797</td>\n",
       "      <td>Coffee Shop</td>\n",
       "      <td>False</td>\n",
       "      <td>450</td>\n",
       "      <td>9.0</td>\n",
       "    </tr>\n",
       "    <tr>\n",
       "      <th>2</th>\n",
       "      <td>2</td>\n",
       "      <td>malga</td>\n",
       "      <td>24.800735</td>\n",
       "      <td>46.600703</td>\n",
       "      <td>Juice Time (وقت العصير)</td>\n",
       "      <td>24.802362</td>\n",
       "      <td>46.603178</td>\n",
       "      <td>Juice Bar</td>\n",
       "      <td>False</td>\n",
       "      <td>73</td>\n",
       "      <td>9.2</td>\n",
       "    </tr>\n",
       "    <tr>\n",
       "      <th>3</th>\n",
       "      <td>3</td>\n",
       "      <td>malga</td>\n",
       "      <td>24.800735</td>\n",
       "      <td>46.600703</td>\n",
       "      <td>Dunkin' Donuts (دانكن دونتس)</td>\n",
       "      <td>24.801518</td>\n",
       "      <td>46.603399</td>\n",
       "      <td>Donut Shop</td>\n",
       "      <td>False</td>\n",
       "      <td>158</td>\n",
       "      <td>8.9</td>\n",
       "    </tr>\n",
       "    <tr>\n",
       "      <th>4</th>\n",
       "      <td>4</td>\n",
       "      <td>malga</td>\n",
       "      <td>24.800735</td>\n",
       "      <td>46.600703</td>\n",
       "      <td>Anoosh (أنوش)</td>\n",
       "      <td>24.802679</td>\n",
       "      <td>46.603831</td>\n",
       "      <td>Dessert Shop</td>\n",
       "      <td>False</td>\n",
       "      <td>249</td>\n",
       "      <td>9.1</td>\n",
       "    </tr>\n",
       "  </tbody>\n",
       "</table>\n",
       "</div>"
      ],
      "text/plain": [
       "   Unnamed: 0 Neighborhood  Neighborhood Latitude  Neighborhood Longitude  \\\n",
       "0           0        malga              24.800735               46.600703   \n",
       "1           1        malga              24.800735               46.600703   \n",
       "2           2        malga              24.800735               46.600703   \n",
       "3           3        malga              24.800735               46.600703   \n",
       "4           4        malga              24.800735               46.600703   \n",
       "\n",
       "                            Venue  Venue Latitude  Venue Longitude  \\\n",
       "0  Tamimi Markets (أسواق التميمي)       24.801425        46.602780   \n",
       "1             Starbucks (ستاربكس)       24.801419        46.602797   \n",
       "2         Juice Time (وقت العصير)       24.802362        46.603178   \n",
       "3    Dunkin' Donuts (دانكن دونتس)       24.801518        46.603399   \n",
       "4                   Anoosh (أنوش)       24.802679        46.603831   \n",
       "\n",
       "  Venue Category  Verified  Likes  Rate  \n",
       "0    Supermarket     False   1366   9.4  \n",
       "1    Coffee Shop     False    450   9.0  \n",
       "2      Juice Bar     False     73   9.2  \n",
       "3     Donut Shop     False    158   8.9  \n",
       "4   Dessert Shop     False    249   9.1  "
      ]
     },
     "execution_count": 19,
     "metadata": {},
     "output_type": "execute_result"
    }
   ],
   "source": [
    "riyadh_data=pd.read_csv('riyadh_cleaned.csv')\n",
    "riyadh_data.head()"
   ]
  },
  {
   "cell_type": "code",
   "execution_count": 20,
   "metadata": {},
   "outputs": [],
   "source": [
    "CLIENT_ID = 'SBRUPO0JNQJ42WN0Y45KJ3MHWUHPOEHP4TAKDLTWSK5IKKT5' # your Foursquare ID\n",
    "CLIENT_SECRET = 'GANLLZLYVEU1K5VT0FSKECGQFIM3VDZN0JMXKT4MZCHKHTZS' # your Foursquare Secret\n",
    "VERSION = '20180605' # Foursquare API version"
   ]
  },
  {
   "cell_type": "code",
   "execution_count": 11,
   "metadata": {},
   "outputs": [],
   "source": [
    "lat=''\n",
    "lng=''\n",
    "url = 'https://api.foursquare.com/v2/venues/categories?&client_id={}&client_secret={}&v={}'.format(CLIENT_ID,\n",
    "                                                                                                   CLIENT_SECRET,\n",
    "                                                                                                   VERSION)\n",
    "categories=requests.get(url).json()"
   ]
  },
  {
   "cell_type": "code",
   "execution_count": 12,
   "metadata": {},
   "outputs": [],
   "source": [
    "cats=[]\n",
    "for cat in categories['response']['categories']:\n",
    "    if cat['name']=='Food':\n",
    "        for f_cat in cat['categories']:\n",
    "            cats.append([f_cat['id'],f_cat['name']])"
   ]
  },
  {
   "cell_type": "code",
   "execution_count": 6,
   "metadata": {},
   "outputs": [
    {
     "data": {
      "text/plain": [
       "[['4bf58dd8d48988d1e0931735', 'Coffee Shop']]"
      ]
     },
     "execution_count": 6,
     "metadata": {},
     "output_type": "execute_result"
    }
   ],
   "source": [
    "[ c for c in cats if c[0]=='4bf58dd8d48988d1e0931735']"
   ]
  },
  {
   "cell_type": "code",
   "execution_count": 7,
   "metadata": {},
   "outputs": [],
   "source": [
    "cat_ids= ','.join([lst[0] for lst in cats ])"
   ]
  },
  {
   "cell_type": "code",
   "execution_count": 21,
   "metadata": {},
   "outputs": [],
   "source": [
    "cat_ids_lst=[lst[0] for lst in cats ]\n",
    "cat_ids_lst[0:7].append(cat_ids_lst[9:])\n"
   ]
  },
  {
   "cell_type": "markdown",
   "metadata": {},
   "source": [
    "### iterate on neighborhood to get venues by categories id"
   ]
  },
  {
   "cell_type": "code",
   "execution_count": 22,
   "metadata": {},
   "outputs": [
    {
     "data": {
      "text/html": [
       "<div>\n",
       "<style scoped>\n",
       "    .dataframe tbody tr th:only-of-type {\n",
       "        vertical-align: middle;\n",
       "    }\n",
       "\n",
       "    .dataframe tbody tr th {\n",
       "        vertical-align: top;\n",
       "    }\n",
       "\n",
       "    .dataframe thead th {\n",
       "        text-align: right;\n",
       "    }\n",
       "</style>\n",
       "<table border=\"1\" class=\"dataframe\">\n",
       "  <thead>\n",
       "    <tr style=\"text-align: right;\">\n",
       "      <th></th>\n",
       "      <th>Unnamed: 0</th>\n",
       "      <th>Neighborhood</th>\n",
       "      <th>Neighborhood Latitude</th>\n",
       "      <th>Neighborhood Longitude</th>\n",
       "      <th>Venue</th>\n",
       "      <th>Venue Latitude</th>\n",
       "      <th>Venue Longitude</th>\n",
       "      <th>Venue Category</th>\n",
       "      <th>Verified</th>\n",
       "      <th>Likes</th>\n",
       "      <th>Rate</th>\n",
       "    </tr>\n",
       "  </thead>\n",
       "  <tbody>\n",
       "    <tr>\n",
       "      <th>0</th>\n",
       "      <td>0</td>\n",
       "      <td>malga</td>\n",
       "      <td>24.800735</td>\n",
       "      <td>46.600703</td>\n",
       "      <td>Tamimi Markets (أسواق التميمي)</td>\n",
       "      <td>24.801425</td>\n",
       "      <td>46.602780</td>\n",
       "      <td>Supermarket</td>\n",
       "      <td>False</td>\n",
       "      <td>1366</td>\n",
       "      <td>9.4</td>\n",
       "    </tr>\n",
       "    <tr>\n",
       "      <th>100</th>\n",
       "      <td>100</td>\n",
       "      <td>sahafah</td>\n",
       "      <td>24.797262</td>\n",
       "      <td>46.640168</td>\n",
       "      <td>FROZ (فروز)</td>\n",
       "      <td>24.797950</td>\n",
       "      <td>46.641953</td>\n",
       "      <td>Frozen Yogurt Shop</td>\n",
       "      <td>False</td>\n",
       "      <td>390</td>\n",
       "      <td>9.0</td>\n",
       "    </tr>\n",
       "    <tr>\n",
       "      <th>115</th>\n",
       "      <td>116</td>\n",
       "      <td>Aqeeq</td>\n",
       "      <td>24.779879</td>\n",
       "      <td>46.626809</td>\n",
       "      <td>Burj Rafal Hotel (فندق برج رافال)</td>\n",
       "      <td>24.792501</td>\n",
       "      <td>46.632336</td>\n",
       "      <td>Hotel</td>\n",
       "      <td>True</td>\n",
       "      <td>3461</td>\n",
       "      <td>9.2</td>\n",
       "    </tr>\n",
       "    <tr>\n",
       "      <th>140</th>\n",
       "      <td>149</td>\n",
       "      <td>Yasmin</td>\n",
       "      <td>24.822791</td>\n",
       "      <td>46.639762</td>\n",
       "      <td>أسواق ومخابز جميرا الامارات</td>\n",
       "      <td>24.808072</td>\n",
       "      <td>46.638413</td>\n",
       "      <td>Grocery Store</td>\n",
       "      <td>False</td>\n",
       "      <td>52</td>\n",
       "      <td>9.1</td>\n",
       "    </tr>\n",
       "    <tr>\n",
       "      <th>216</th>\n",
       "      <td>249</td>\n",
       "      <td>Hittin</td>\n",
       "      <td>24.753889</td>\n",
       "      <td>46.600833</td>\n",
       "      <td>O100</td>\n",
       "      <td>24.758679</td>\n",
       "      <td>46.605999</td>\n",
       "      <td>Perfume Shop</td>\n",
       "      <td>False</td>\n",
       "      <td>58</td>\n",
       "      <td>9.3</td>\n",
       "    </tr>\n",
       "    <tr>\n",
       "      <th>338</th>\n",
       "      <td>372</td>\n",
       "      <td>Nargis</td>\n",
       "      <td>24.834828</td>\n",
       "      <td>46.674293</td>\n",
       "      <td>Starbucks (ستاربكس)</td>\n",
       "      <td>24.822058</td>\n",
       "      <td>46.649758</td>\n",
       "      <td>Coffee Shop</td>\n",
       "      <td>False</td>\n",
       "      <td>659</td>\n",
       "      <td>9.3</td>\n",
       "    </tr>\n",
       "    <tr>\n",
       "      <th>425</th>\n",
       "      <td>478</td>\n",
       "      <td>Mursalat</td>\n",
       "      <td>24.746928</td>\n",
       "      <td>46.690852</td>\n",
       "      <td>ج Gym</td>\n",
       "      <td>24.739044</td>\n",
       "      <td>46.691740</td>\n",
       "      <td>Gym / Fitness Center</td>\n",
       "      <td>False</td>\n",
       "      <td>63</td>\n",
       "      <td>9.1</td>\n",
       "    </tr>\n",
       "    <tr>\n",
       "      <th>610</th>\n",
       "      <td>664</td>\n",
       "      <td>muruj</td>\n",
       "      <td>24.757762</td>\n",
       "      <td>46.663673</td>\n",
       "      <td>Juice Time (وقت العصير)</td>\n",
       "      <td>24.759272</td>\n",
       "      <td>46.664003</td>\n",
       "      <td>Juice Bar</td>\n",
       "      <td>False</td>\n",
       "      <td>255</td>\n",
       "      <td>8.9</td>\n",
       "    </tr>\n",
       "  </tbody>\n",
       "</table>\n",
       "</div>"
      ],
      "text/plain": [
       "     Unnamed: 0 Neighborhood  Neighborhood Latitude  Neighborhood Longitude  \\\n",
       "0             0        malga              24.800735               46.600703   \n",
       "100         100      sahafah              24.797262               46.640168   \n",
       "115         116        Aqeeq              24.779879               46.626809   \n",
       "140         149       Yasmin              24.822791               46.639762   \n",
       "216         249       Hittin              24.753889               46.600833   \n",
       "338         372       Nargis              24.834828               46.674293   \n",
       "425         478     Mursalat              24.746928               46.690852   \n",
       "610         664        muruj              24.757762               46.663673   \n",
       "\n",
       "                                 Venue  Venue Latitude  Venue Longitude  \\\n",
       "0       Tamimi Markets (أسواق التميمي)       24.801425        46.602780   \n",
       "100                        FROZ (فروز)       24.797950        46.641953   \n",
       "115  Burj Rafal Hotel (فندق برج رافال)       24.792501        46.632336   \n",
       "140        أسواق ومخابز جميرا الامارات       24.808072        46.638413   \n",
       "216                               O100       24.758679        46.605999   \n",
       "338                Starbucks (ستاربكس)       24.822058        46.649758   \n",
       "425                              ج Gym       24.739044        46.691740   \n",
       "610            Juice Time (وقت العصير)       24.759272        46.664003   \n",
       "\n",
       "           Venue Category  Verified  Likes  Rate  \n",
       "0             Supermarket     False   1366   9.4  \n",
       "100    Frozen Yogurt Shop     False    390   9.0  \n",
       "115                 Hotel      True   3461   9.2  \n",
       "140         Grocery Store     False     52   9.1  \n",
       "216          Perfume Shop     False     58   9.3  \n",
       "338           Coffee Shop     False    659   9.3  \n",
       "425  Gym / Fitness Center     False     63   9.1  \n",
       "610             Juice Bar     False    255   8.9  "
      ]
     },
     "execution_count": 22,
     "metadata": {},
     "output_type": "execute_result"
    }
   ],
   "source": [
    "neighborhoods=riyadh_data[riyadh_data[['Neighborhood Latitude','Neighborhood Longitude']].duplicated()==False]\n",
    "neighborhoods"
   ]
  },
  {
   "cell_type": "code",
   "execution_count": null,
   "metadata": {},
   "outputs": [],
   "source": [
    "8*92"
   ]
  },
  {
   "cell_type": "code",
   "execution_count": null,
   "metadata": {},
   "outputs": [
    {
     "name": "stderr",
     "output_type": "stream",
     "text": [
      "G:\\Users\\SAAD\\anaconda3\\lib\\site-packages\\ipykernel_launcher.py:11: FutureWarning: pandas.io.json.json_normalize is deprecated, use pandas.json_normalize instead\n",
      "  # This is added back by InteractiveShellApp.init_path()\n"
     ]
    },
    {
     "name": "stdout",
     "output_type": "stream",
     "text": [
      "{'meta': {'code': 500, 'errorType': 'server_error', 'errorDetail': 'Foursquare servers are experiencing problems. Please retry and check status.foursquare.com for updates.'}, 'response': {}}\n"
     ]
    }
   ],
   "source": [
    "lat='24.800735'\n",
    "lng='46.600703'\n",
    "#parent_df=pd.DataFrame(columns=child_df.columns)\n",
    "for neigh,lat,lng in zip(neighborhoods['Neighborhood'],neighborhoods['Neighborhood Latitude'],neighborhoods['Neighborhood Longitude']):\n",
    "    for cat_id in cat_ids_lst:\n",
    "        url='https://api.foursquare.com/v2/venues/search?categoryId={}\\\n",
    "        &client_id={}&client_secret={}&v={}&ll={},{}&limit=500&raduis=3000'.format(cat_id,CLIENT_ID,CLIENT_SECRET,VERSION,lat,lng)\n",
    "        res=None\n",
    "        try:\n",
    "            res=requests.get(url).json()\n",
    "            child_df=json_normalize(res['response']['venues'])\n",
    "        except:\n",
    "            print(res)\n",
    "            #break\n",
    "        child_df['Neighborhood']=neigh\n",
    "        parent_df=pd.concat([parent_df,child_df],axis=0)\n",
    "\n",
    "        #break\n",
    "#res"
   ]
  },
  {
   "cell_type": "code",
   "execution_count": 28,
   "metadata": {},
   "outputs": [
    {
     "data": {
      "text/html": [
       "<div>\n",
       "<style scoped>\n",
       "    .dataframe tbody tr th:only-of-type {\n",
       "        vertical-align: middle;\n",
       "    }\n",
       "\n",
       "    .dataframe tbody tr th {\n",
       "        vertical-align: top;\n",
       "    }\n",
       "\n",
       "    .dataframe thead th {\n",
       "        text-align: right;\n",
       "    }\n",
       "</style>\n",
       "<table border=\"1\" class=\"dataframe\">\n",
       "  <thead>\n",
       "    <tr style=\"text-align: right;\">\n",
       "      <th></th>\n",
       "      <th>id</th>\n",
       "      <th>name</th>\n",
       "      <th>categories</th>\n",
       "      <th>referralId</th>\n",
       "      <th>hasPerk</th>\n",
       "      <th>location.lat</th>\n",
       "      <th>location.lng</th>\n",
       "      <th>location.labeledLatLngs</th>\n",
       "      <th>location.distance</th>\n",
       "      <th>location.cc</th>\n",
       "      <th>location.neighborhood</th>\n",
       "      <th>location.country</th>\n",
       "      <th>location.formattedAddress</th>\n",
       "      <th>location.postalCode</th>\n",
       "      <th>location.city</th>\n",
       "      <th>location.state</th>\n",
       "      <th>location.address</th>\n",
       "      <th>location.crossStreet</th>\n",
       "      <th>Neighborhood</th>\n",
       "    </tr>\n",
       "  </thead>\n",
       "  <tbody>\n",
       "  </tbody>\n",
       "</table>\n",
       "</div>"
      ],
      "text/plain": [
       "Empty DataFrame\n",
       "Columns: [id, name, categories, referralId, hasPerk, location.lat, location.lng, location.labeledLatLngs, location.distance, location.cc, location.neighborhood, location.country, location.formattedAddress, location.postalCode, location.city, location.state, location.address, location.crossStreet, Neighborhood]\n",
       "Index: []"
      ]
     },
     "execution_count": 28,
     "metadata": {},
     "output_type": "execute_result"
    }
   ],
   "source": [
    "parent_df=pd.DataFrame(columns=child_df.columns)\n",
    "parent_df"
   ]
  },
  {
   "cell_type": "code",
   "execution_count": null,
   "metadata": {},
   "outputs": [],
   "source": [
    "#len(parent_df.columns)\n",
    "parent_df.shape"
   ]
  },
  {
   "cell_type": "code",
   "execution_count": null,
   "metadata": {
    "scrolled": true
   },
   "outputs": [],
   "source": [
    "parent_df.head()"
   ]
  },
  {
   "cell_type": "code",
   "execution_count": null,
   "metadata": {},
   "outputs": [],
   "source": [
    "parent_df['Neighborhood']='Malqa'"
   ]
  },
  {
   "cell_type": "code",
   "execution_count": null,
   "metadata": {},
   "outputs": [],
   "source": [
    "for item in parent_df['categories']:\n",
    "    #print(item)\n",
    "    for cat in item:\n",
    "        print(cat['name'])\n",
    "           "
   ]
  },
  {
   "cell_type": "code",
   "execution_count": null,
   "metadata": {},
   "outputs": [],
   "source": [
    "parent_df['location.state'].unique()"
   ]
  },
  {
   "cell_type": "code",
   "execution_count": null,
   "metadata": {},
   "outputs": [],
   "source": [
    "parent_df['location.neighborhood'].unique()"
   ]
  },
  {
   "cell_type": "code",
   "execution_count": null,
   "metadata": {},
   "outputs": [],
   "source": []
  },
  {
   "cell_type": "code",
   "execution_count": null,
   "metadata": {},
   "outputs": [],
   "source": [
    "parent_df.reset_index(drop=True,inplace=True)"
   ]
  },
  {
   "cell_type": "code",
   "execution_count": null,
   "metadata": {},
   "outputs": [],
   "source": [
    "#drop data frame values\n",
    "parent_df=parent_df.drop(list(np.arange(parent_df.index.start,parent_df.index.stop)),axis=0)\n",
    "parent_df"
   ]
  },
  {
   "cell_type": "code",
   "execution_count": null,
   "metadata": {},
   "outputs": [],
   "source": []
  }
 ],
 "metadata": {
  "kernelspec": {
   "display_name": "Python 3",
   "language": "python",
   "name": "python3"
  },
  "language_info": {
   "codemirror_mode": {
    "name": "ipython",
    "version": 3
   },
   "file_extension": ".py",
   "mimetype": "text/x-python",
   "name": "python",
   "nbconvert_exporter": "python",
   "pygments_lexer": "ipython3",
   "version": "3.7.6"
  }
 },
 "nbformat": 4,
 "nbformat_minor": 4
}

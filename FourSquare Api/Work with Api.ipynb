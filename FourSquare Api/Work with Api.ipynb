{
 "cells": [
  {
   "cell_type": "code",
   "execution_count": 70,
   "metadata": {},
   "outputs": [],
   "source": [
    "import json ,requests\n",
    "import pandas as pd\n",
    "import numpy as np"
   ]
  },
  {
   "cell_type": "code",
   "execution_count": 148,
   "metadata": {},
   "outputs": [],
   "source": [
    "url = 'https://api.foursquare.com/v2/venues/explore'\n",
    "\n",
    "params = dict(\n",
    "client_id='SBRUPO0JNQJ42WN0Y45KJ3MHWUHPOEHP4TAKDLTWSK5IKKT5',\n",
    "client_secret='GANLLZLYVEU1K5VT0FSKECGQFIM3VDZN0JMXKT4MZCHKHTZS',\n",
    "v='20180323',\n",
    "ll='24.7885344,46.6266208',\n",
    "query='Trending'\n",
    ")\n",
    "resp = requests.get(url=url, params=params)\n",
    "data = json.loads(resp.text)"
   ]
  },
  {
   "cell_type": "code",
   "execution_count": 150,
   "metadata": {},
   "outputs": [],
   "source": [
    "venue_dic={'id':[],'name':[],'address':[],'lat_long':[],'category':[]}\n",
    "\n",
    "for group in data['response']['groups']:\n",
    "    for item in  group['items']:\n",
    "        new_cat=''\n",
    "        venue_dic['id'].append( item['venue']['id'])\n",
    "        venue_dic['name'].append( item['venue']['name'])\n",
    "        venue_dic['lat_long'].append('{0},{1}'.format( item['venue']['location']['lat'],item['venue']['location']['lng']))\n",
    "        for cat in item['venue']['categories']:\n",
    "            if new_cat !='':\n",
    "                new_cat=','+new_cat\n",
    "            new_cat+=cat['shortName']\n",
    "        venue_dic['category'].append(new_cat)\n",
    "        \n",
    "        try:\n",
    "            venue_dic['address'].append(item['venue']['location']['address'])\n",
    "        except:\n",
    "            venue_dic['address'].append(np.nan)\n",
    "        "
   ]
  },
  {
   "cell_type": "code",
   "execution_count": 151,
   "metadata": {},
   "outputs": [
    {
     "data": {
      "text/html": [
       "<div>\n",
       "<style scoped>\n",
       "    .dataframe tbody tr th:only-of-type {\n",
       "        vertical-align: middle;\n",
       "    }\n",
       "\n",
       "    .dataframe tbody tr th {\n",
       "        vertical-align: top;\n",
       "    }\n",
       "\n",
       "    .dataframe thead th {\n",
       "        text-align: right;\n",
       "    }\n",
       "</style>\n",
       "<table border=\"1\" class=\"dataframe\">\n",
       "  <thead>\n",
       "    <tr style=\"text-align: right;\">\n",
       "      <th></th>\n",
       "      <th>id</th>\n",
       "      <th>name</th>\n",
       "      <th>address</th>\n",
       "      <th>lat_long</th>\n",
       "      <th>category</th>\n",
       "    </tr>\n",
       "  </thead>\n",
       "  <tbody>\n",
       "    <tr>\n",
       "      <th>0</th>\n",
       "      <td>5e146a45d10c3d000807ee06</td>\n",
       "      <td>The California Burger</td>\n",
       "      <td>Al Malqa, Riyadh</td>\n",
       "      <td>24.80649,46.612312</td>\n",
       "      <td>Burgers</td>\n",
       "    </tr>\n",
       "    <tr>\n",
       "      <th>1</th>\n",
       "      <td>5ece84d5b018390008631ce9</td>\n",
       "      <td>Fabrica De Cafe</td>\n",
       "      <td>Prince Muhammed Ibn Saad Rd</td>\n",
       "      <td>24.766358,46.623327</td>\n",
       "      <td>Coffee Shop</td>\n",
       "    </tr>\n",
       "    <tr>\n",
       "      <th>2</th>\n",
       "      <td>5e209bd9daee0b0008160ffa</td>\n",
       "      <td>Gallo (جالو)</td>\n",
       "      <td>Prince Mohammed Ibn Salman Rd.</td>\n",
       "      <td>24.781162,46.647211</td>\n",
       "      <td>Burgers</td>\n",
       "    </tr>\n",
       "    <tr>\n",
       "      <th>3</th>\n",
       "      <td>5e2c6f651b5837000886d0c0</td>\n",
       "      <td>amai Japanese Bakery</td>\n",
       "      <td>Prince Muhammad Ibn Saad Bin Abdulaziz Rd</td>\n",
       "      <td>24.766584,46.622217</td>\n",
       "      <td>Bakery</td>\n",
       "    </tr>\n",
       "    <tr>\n",
       "      <th>4</th>\n",
       "      <td>5c49e15d7d8497002cbdbfb9</td>\n",
       "      <td>TREE HOUSE CAFE</td>\n",
       "      <td>Prince Saud Bin Muhammed Bin Miqren</td>\n",
       "      <td>24.781293,46.647401</td>\n",
       "      <td>Café</td>\n",
       "    </tr>\n",
       "  </tbody>\n",
       "</table>\n",
       "</div>"
      ],
      "text/plain": [
       "                         id                   name  \\\n",
       "0  5e146a45d10c3d000807ee06  The California Burger   \n",
       "1  5ece84d5b018390008631ce9        Fabrica De Cafe   \n",
       "2  5e209bd9daee0b0008160ffa           Gallo (جالو)   \n",
       "3  5e2c6f651b5837000886d0c0   amai Japanese Bakery   \n",
       "4  5c49e15d7d8497002cbdbfb9        TREE HOUSE CAFE   \n",
       "\n",
       "                                     address             lat_long     category  \n",
       "0                           Al Malqa, Riyadh   24.80649,46.612312      Burgers  \n",
       "1                Prince Muhammed Ibn Saad Rd  24.766358,46.623327  Coffee Shop  \n",
       "2             Prince Mohammed Ibn Salman Rd.  24.781162,46.647211      Burgers  \n",
       "3  Prince Muhammad Ibn Saad Bin Abdulaziz Rd  24.766584,46.622217       Bakery  \n",
       "4        Prince Saud Bin Muhammed Bin Miqren  24.781293,46.647401         Café  "
      ]
     },
     "execution_count": 151,
     "metadata": {},
     "output_type": "execute_result"
    }
   ],
   "source": [
    "df=pd.DataFrame( venue_dic)\n",
    "df.head()"
   ]
  }
 ],
 "metadata": {
  "kernelspec": {
   "display_name": "Python 3",
   "language": "python",
   "name": "python3"
  },
  "language_info": {
   "codemirror_mode": {
    "name": "ipython",
    "version": 3
   },
   "file_extension": ".py",
   "mimetype": "text/x-python",
   "name": "python",
   "nbconvert_exporter": "python",
   "pygments_lexer": "ipython3",
   "version": "3.7.6"
  }
 },
 "nbformat": 4,
 "nbformat_minor": 4
}
